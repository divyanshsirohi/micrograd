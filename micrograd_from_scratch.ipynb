{
 "cells": [
  {
   "cell_type": "code",
   "id": "initial_id",
   "metadata": {
    "collapsed": true,
    "ExecuteTime": {
     "end_time": "2025-06-29T19:04:49.647770Z",
     "start_time": "2025-06-29T19:04:49.641172Z"
    }
   },
   "source": [
    "import math\n",
    "import numpy as np\n",
    "import pandas as pd\n",
    "import matplotlib.pyplot as plt\n",
    "from matplotlib import matplotlib_fname\n",
    "%matplotlib inline"
   ],
   "outputs": [],
   "execution_count": 67
  },
  {
   "metadata": {
    "ExecuteTime": {
     "end_time": "2025-06-29T19:04:49.719026Z",
     "start_time": "2025-06-29T19:04:49.713418Z"
    }
   },
   "cell_type": "code",
   "source": [
    "def f(x):\n",
    "    return 4*x**2+2*x+3"
   ],
   "id": "7df2a26981a00cfb",
   "outputs": [],
   "execution_count": 68
  },
  {
   "metadata": {
    "ExecuteTime": {
     "end_time": "2025-06-29T19:04:49.807054Z",
     "start_time": "2025-06-29T19:04:49.796213Z"
    }
   },
   "cell_type": "code",
   "source": [
    "xs = np.arange(-5,5,0.25)\n",
    "ys = f(xs)\n",
    "ys"
   ],
   "id": "a3ff8a577afb6648",
   "outputs": [
    {
     "data": {
      "text/plain": [
       "array([ 93.  ,  83.75,  75.  ,  66.75,  59.  ,  51.75,  45.  ,  38.75,\n",
       "        33.  ,  27.75,  23.  ,  18.75,  15.  ,  11.75,   9.  ,   6.75,\n",
       "         5.  ,   3.75,   3.  ,   2.75,   3.  ,   3.75,   5.  ,   6.75,\n",
       "         9.  ,  11.75,  15.  ,  18.75,  23.  ,  27.75,  33.  ,  38.75,\n",
       "        45.  ,  51.75,  59.  ,  66.75,  75.  ,  83.75,  93.  , 102.75])"
      ]
     },
     "execution_count": 69,
     "metadata": {},
     "output_type": "execute_result"
    }
   ],
   "execution_count": 69
  },
  {
   "metadata": {
    "ExecuteTime": {
     "end_time": "2025-06-29T19:04:49.960725Z",
     "start_time": "2025-06-29T19:04:49.868978Z"
    }
   },
   "cell_type": "code",
   "source": "plt.plot(xs,ys)",
   "id": "f0ca8b2d241abce7",
   "outputs": [
    {
     "data": {
      "text/plain": [
       "[<matplotlib.lines.Line2D at 0x7f3fc0561bd0>]"
      ]
     },
     "execution_count": 70,
     "metadata": {},
     "output_type": "execute_result"
    },
    {
     "data": {
      "text/plain": [
       "<Figure size 640x480 with 1 Axes>"
      ],
      "image/png": "[encoded data removed]"
     },
     "metadata": {},
     "output_type": "display_data"
    }
   ],
   "execution_count": 70
  },
  {
   "metadata": {
    "ExecuteTime": {
     "end_time": "2025-06-29T19:04:49.984887Z",
     "start_time": "2025-06-29T19:04:49.978721Z"
    }
   },
   "cell_type": "code",
   "source": [
    "h = 0.0000000000001\n",
    "x = -3.0\n",
    "\n",
    "(f(x+h) - f(x))/h"
   ],
   "id": "e8c5cfa3be6c0dd",
   "outputs": [
    {
     "data": {
      "text/plain": [
       "-21.955770534987096"
      ]
     },
     "execution_count": 71,
     "metadata": {},
     "output_type": "execute_result"
    }
   ],
   "execution_count": 71
  },
  {
   "metadata": {
    "ExecuteTime": {
     "end_time": "2025-06-29T19:04:50.058577Z",
     "start_time": "2025-06-29T19:04:50.050732Z"
    }
   },
   "cell_type": "code",
   "source": [
    "a = 2.0\n",
    "b = 3.5\n",
    "c = -2.4\n",
    "\n",
    "d1 = a*b + c\n",
    "a += h\n",
    "d2 = a*b + c\n",
    "print(d1)\n",
    "print(d2)\n",
    "slope = (d2-d1)/h\n",
    "slope"
   ],
   "id": "1e711de1d7556a3c",
   "outputs": [
    {
     "name": "stdout",
     "output_type": "stream",
     "text": [
      "4.6\n",
      "4.60000000000035\n"
     ]
    },
    {
     "data": {
      "text/plain": [
       "3.4994229736184934"
      ]
     },
     "execution_count": 72,
     "metadata": {},
     "output_type": "execute_result"
    }
   ],
   "execution_count": 72
  },
  {
   "metadata": {
    "ExecuteTime": {
     "end_time": "2025-06-29T19:10:36.093989Z",
     "start_time": "2025-06-29T19:10:36.084588Z"
    }
   },
   "cell_type": "code",
   "source": [
    "class Value:\n",
    "    def __init__(self,data,_children = (), _op = '', label = ''):\n",
    "        self.data = data\n",
    "        self._prev = set(_children)\n",
    "        self._op = _op\n",
    "        self.label = label\n",
    "\n",
    "    def __repr__(self):\n",
    "        return f\"Value(data={self.data})\"\n",
    "    def __add__(self,other):\n",
    "        out = Value(self.data+other.data, (self,other), '+')\n",
    "        return out\n",
    "    def __mul__(self,other):\n",
    "        out = Value(self.data*other.data, (self, other), '*')\n",
    "        return out\n",
    "a = Value(2.0, label = \"a\")\n",
    "b = Value(-3.0, label = \"b\")\n",
    "c = Value(10.0, label = \"c\")\n",
    "e = a+b\n",
    "e.label = \"e\"\n",
    "d = e + c\n",
    "d.label = \"d\""
   ],
   "id": "3d82ce3ad640e413",
   "outputs": [],
   "execution_count": 81
  },
  {
   "metadata": {
    "ExecuteTime": {
     "end_time": "2025-06-29T19:10:36.652011Z",
     "start_time": "2025-06-29T19:10:36.642472Z"
    }
   },
   "cell_type": "code",
   "source": [
    "from graphviz import Digraph\n",
    "\n",
    "def trace(root):\n",
    "  # builds a set of all nodes and edges in a graph\n",
    "  nodes, edges = set(), set()\n",
    "  def build(v):\n",
    "    if v not in nodes:\n",
    "      nodes.add(v)\n",
    "      for child in v._prev:\n",
    "        edges.add((child, v))\n",
    "        build(child)\n",
    "  build(root)\n",
    "  return nodes, edges\n",
    "\n",
    "def draw_dot(root):\n",
    "  dot = Digraph(format='svg', graph_attr={'rankdir': 'LR'}) # LR = left to right\n",
    "\n",
    "  nodes, edges = trace(root)\n",
    "  for n in nodes:\n",
    "    uid = str(id(n))\n",
    "    # for any value in the graph, create a rectangular ('record') node for it\n",
    "    dot.node(name = uid, label = \"{ %s | data %.4f}\" % (n.label, n.data), shape='record')\n",
    "    if n._op:\n",
    "      # if this value is a result of some operation, create an op node for it\n",
    "      dot.node(name = uid + n._op, label = n._op)\n",
    "      # and connect this node to it\n",
    "      dot.edge(uid + n._op, uid)\n",
    "\n",
    "  for n1, n2 in edges:\n",
    "    # connect n1 to the op node of n2\n",
    "    dot.edge(str(id(n1)), str(id(n2)) + n2._op)\n",
    "\n",
    "  return dot"
   ],
   "id": "22ad81b1a8bc608e",
   "outputs": [],
   "execution_count": 82
  },
  {
   "metadata": {
    "ExecuteTime": {
     "end_time": "2025-06-29T19:10:37.417587Z",
     "start_time": "2025-06-29T19:10:37.368718Z"
    }
   },
   "cell_type": "code",
   "source": "draw_dot(d)",
   "id": "ff7cfd08f0267d25",
   "outputs": [
    {
     "data": {
      "image/svg+xml": "<?xml version=\"1.0\" encoding=\"UTF-8\" standalone=\"no\"?>\n<!DOCTYPE svg PUBLIC \"-//W3C//DTD SVG 1.1//EN\"\n \"http://www.w3.org/Graphics/SVG/1.1/DTD/svg11.dtd\">\n<!-- Generated by graphviz version 2.42.4 (0)\n -->\n<!-- Pages: 1 -->\n<svg width=\"656pt\" height=\"128pt\"\n viewBox=\"0.00 0.00 656.00 128.00\" xmlns=\"http://www.w3.org/2000/svg\" xmlns:xlink=\"http://www.w3.org/1999/xlink\">\n<g id=\"graph0\" class=\"graph\" transform=\"scale(1 1) rotate(0) translate(4 124)\">\n<polygon fill=\"white\" stroke=\"transparent\" points=\"-4,4 -4,-124 652,-124 652,4 -4,4\"/>\n<!-- 139911796814384 -->\n<g id=\"node1\" class=\"node\">\n<title>139911796814384</title>\n<polygon fill=\"none\" stroke=\"black\" points=\"3,-83.5 3,-119.5 130,-119.5 130,-83.5 3,-83.5\"/>\n<text text-anchor=\"middle\" x=\"15.5\" y=\"-97.8\" font-family=\"Times,serif\" font-size=\"14.00\">a</text>\n<polyline fill=\"none\" stroke=\"black\" points=\"28,-83.5 28,-119.5 \"/>\n<text text-anchor=\"middle\" x=\"79\" y=\"-97.8\" font-family=\"Times,serif\" font-size=\"14.00\">data 2.0000</text>\n</g>\n<!-- 139911787195456+ -->\n<g id=\"node3\" class=\"node\">\n<title>139911787195456+</title>\n<ellipse fill=\"none\" stroke=\"black\" cx=\"196\" cy=\"-73.5\" rx=\"27\" ry=\"18\"/>\n<text text-anchor=\"middle\" x=\"196\" y=\"-69.8\" font-family=\"Times,serif\" font-size=\"14.00\">+</text>\n</g>\n<!-- 139911796814384&#45;&gt;139911787195456+ -->\n<g id=\"edge5\" class=\"edge\">\n<title>139911796814384&#45;&gt;139911787195456+</title>\n<path fill=\"none\" stroke=\"black\" d=\"M130.13,-87.75C140.47,-85.48 150.85,-83.2 160.18,-81.15\"/>\n<polygon fill=\"black\" stroke=\"black\" points=\"161.2,-84.51 170.21,-78.94 159.69,-77.67 161.2,-84.51\"/>\n</g>\n<!-- 139911787195456 -->\n<g id=\"node2\" class=\"node\">\n<title>139911787195456</title>\n<polygon fill=\"none\" stroke=\"black\" points=\"260.5,-55.5 260.5,-91.5 392.5,-91.5 392.5,-55.5 260.5,-55.5\"/>\n<text text-anchor=\"middle\" x=\"273\" y=\"-69.8\" font-family=\"Times,serif\" font-size=\"14.00\">e</text>\n<polyline fill=\"none\" stroke=\"black\" points=\"285.5,-55.5 285.5,-91.5 \"/>\n<text text-anchor=\"middle\" x=\"339\" y=\"-69.8\" font-family=\"Times,serif\" font-size=\"14.00\">data &#45;1.0000</text>\n</g>\n<!-- 139911787195760+ -->\n<g id=\"node6\" class=\"node\">\n<title>139911787195760+</title>\n<ellipse fill=\"none\" stroke=\"black\" cx=\"457\" cy=\"-45.5\" rx=\"27\" ry=\"18\"/>\n<text text-anchor=\"middle\" x=\"457\" y=\"-41.8\" font-family=\"Times,serif\" font-size=\"14.00\">+</text>\n</g>\n<!-- 139911787195456&#45;&gt;139911787195760+ -->\n<g id=\"edge3\" class=\"edge\">\n<title>139911787195456&#45;&gt;139911787195760+</title>\n<path fill=\"none\" stroke=\"black\" d=\"M392.5,-59.34C402.35,-57.19 412.17,-55.05 421.04,-53.12\"/>\n<polygon fill=\"black\" stroke=\"black\" points=\"421.94,-56.5 430.96,-50.96 420.45,-49.67 421.94,-56.5\"/>\n</g>\n<!-- 139911787195456+&#45;&gt;139911787195456 -->\n<g id=\"edge1\" class=\"edge\">\n<title>139911787195456+&#45;&gt;139911787195456</title>\n<path fill=\"none\" stroke=\"black\" d=\"M223,-73.5C231.11,-73.5 240.5,-73.5 250.24,-73.5\"/>\n<polygon fill=\"black\" stroke=\"black\" points=\"250.47,-77 260.47,-73.5 250.47,-70 250.47,-77\"/>\n</g>\n<!-- 139911786923344 -->\n<g id=\"node4\" class=\"node\">\n<title>139911786923344</title>\n<polygon fill=\"none\" stroke=\"black\" points=\"0,-28.5 0,-64.5 133,-64.5 133,-28.5 0,-28.5\"/>\n<text text-anchor=\"middle\" x=\"13\" y=\"-42.8\" font-family=\"Times,serif\" font-size=\"14.00\">b</text>\n<polyline fill=\"none\" stroke=\"black\" points=\"26,-28.5 26,-64.5 \"/>\n<text text-anchor=\"middle\" x=\"79.5\" y=\"-42.8\" font-family=\"Times,serif\" font-size=\"14.00\">data &#45;3.0000</text>\n</g>\n<!-- 139911786923344&#45;&gt;139911787195456+ -->\n<g id=\"edge4\" class=\"edge\">\n<title>139911786923344&#45;&gt;139911787195456+</title>\n<path fill=\"none\" stroke=\"black\" d=\"M133.12,-60.4C142.49,-62.38 151.8,-64.35 160.25,-66.14\"/>\n<polygon fill=\"black\" stroke=\"black\" points=\"159.57,-69.58 170.08,-68.22 161.02,-62.73 159.57,-69.58\"/>\n</g>\n<!-- 139911787195760 -->\n<g id=\"node5\" class=\"node\">\n<title>139911787195760</title>\n<polygon fill=\"none\" stroke=\"black\" points=\"520,-27.5 520,-63.5 648,-63.5 648,-27.5 520,-27.5\"/>\n<text text-anchor=\"middle\" x=\"533\" y=\"-41.8\" font-family=\"Times,serif\" font-size=\"14.00\">d</text>\n<polyline fill=\"none\" stroke=\"black\" points=\"546,-27.5 546,-63.5 \"/>\n<text text-anchor=\"middle\" x=\"597\" y=\"-41.8\" font-family=\"Times,serif\" font-size=\"14.00\">data 9.0000</text>\n</g>\n<!-- 139911787195760+&#45;&gt;139911787195760 -->\n<g id=\"edge2\" class=\"edge\">\n<title>139911787195760+&#45;&gt;139911787195760</title>\n<path fill=\"none\" stroke=\"black\" d=\"M484.2,-45.5C491.8,-45.5 500.49,-45.5 509.49,-45.5\"/>\n<polygon fill=\"black\" stroke=\"black\" points=\"509.75,-49 519.75,-45.5 509.75,-42 509.75,-49\"/>\n</g>\n<!-- 139911786923984 -->\n<g id=\"node7\" class=\"node\">\n<title>139911786923984</title>\n<polygon fill=\"none\" stroke=\"black\" points=\"259,-0.5 259,-36.5 394,-36.5 394,-0.5 259,-0.5\"/>\n<text text-anchor=\"middle\" x=\"271\" y=\"-14.8\" font-family=\"Times,serif\" font-size=\"14.00\">c</text>\n<polyline fill=\"none\" stroke=\"black\" points=\"283,-0.5 283,-36.5 \"/>\n<text text-anchor=\"middle\" x=\"338.5\" y=\"-14.8\" font-family=\"Times,serif\" font-size=\"14.00\">data 10.0000</text>\n</g>\n<!-- 139911786923984&#45;&gt;139911787195760+ -->\n<g id=\"edge6\" class=\"edge\">\n<title>139911786923984&#45;&gt;139911787195760+</title>\n<path fill=\"none\" stroke=\"black\" d=\"M394.01,-32.47C403.41,-34.45 412.75,-36.41 421.22,-38.19\"/>\n<polygon fill=\"black\" stroke=\"black\" points=\"420.56,-41.63 431.06,-40.26 422,-34.78 420.56,-41.63\"/>\n</g>\n</g>\n</svg>\n",
      "text/plain": [
       "<graphviz.graphs.Digraph at 0x7f3fc0602fd0>"
      ]
     },
     "execution_count": 83,
     "metadata": {},
     "output_type": "execute_result"
    }
   ],
   "execution_count": 83
  },
  {
   "metadata": {},
   "cell_type": "code",
   "outputs": [],
   "execution_count": null,
   "source": "",
   "id": "50771b1a5c72ee10"
  }
 ],
 "metadata": {
  "kernelspec": {
   "display_name": "Python 3",
   "language": "python",
   "name": "python3"
  },
  "language_info": {
   "codemirror_mode": {
    "name": "ipython",
    "version": 2
   },
   "file_extension": ".py",
   "mimetype": "text/x-python",
   "name": "python",
   "nbconvert_exporter": "python",
   "pygments_lexer": "ipython2",
   "version": "2.7.6"
  }
 },
 "nbformat": 4,
 "nbformat_minor": 5
}
